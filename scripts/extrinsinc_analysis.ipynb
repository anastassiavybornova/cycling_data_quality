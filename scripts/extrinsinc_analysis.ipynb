{
 "cells": [
  {
   "cell_type": "markdown",
   "metadata": {},
   "source": [
    "# Extrinsinc Analysis"
   ]
  },
  {
   "cell_type": "markdown",
   "metadata": {},
   "source": [
    "## Simplification Outcome"
   ]
  },
  {
   "cell_type": "markdown",
   "metadata": {},
   "source": [
    "## Overall Comparison\n",
    "\n",
    "Total and per grid cell:\n",
    "- Network length\n",
    "- Number of nodes/intersections\n",
    "- Connected components\n",
    "- Length of different types of infrastructure"
   ]
  },
  {
   "cell_type": "markdown",
   "metadata": {},
   "source": [
    "## Feature Matching\n",
    "\n",
    "- Matched and non-matched edges - total and per grid cell (count or length?)\n",
    "- Comparison of matched edges - do they aggree on core attributes?"
   ]
  },
  {
   "cell_type": "code",
   "execution_count": null,
   "metadata": {},
   "outputs": [],
   "source": [
    "# Matched and non-matched edges - total and per grid cell"
   ]
  },
  {
   "cell_type": "markdown",
   "metadata": {},
   "source": [
    "## Comparison of Network Structure"
   ]
  },
  {
   "cell_type": "code",
   "execution_count": null,
   "metadata": {},
   "outputs": [],
   "source": [
    "\n",
    "alpha, beta, gamma = ef.compute_alpha_beta_gamma(simplified_nodes, simplified_edges)\n",
    "\n",
    "print(f'Alpha for the simplified network is: {alpha:.2f}')\n",
    "print(f'Beta for the simplified network is: {beta:.2f}')\n",
    "print(f'Gamma for the simplified network is: {gamma:.2f}')\n"
   ]
  },
  {
   "cell_type": "markdown",
   "metadata": {},
   "source": [
    "## Feasibility for Routing\n",
    "- Can you use for routing?\n",
    "- Differing shortest paths?"
   ]
  },
  {
   "cell_type": "markdown",
   "metadata": {},
   "source": []
  }
 ],
 "metadata": {
  "language_info": {
   "name": "python"
  },
  "orig_nbformat": 4
 },
 "nbformat": 4,
 "nbformat_minor": 2
}
