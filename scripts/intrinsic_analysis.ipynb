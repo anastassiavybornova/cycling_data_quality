{
 "cells": [
  {
   "cell_type": "markdown",
   "metadata": {},
   "source": [
    "# Intrinsic Analysis"
   ]
  },
  {
   "cell_type": "code",
   "execution_count": 1,
   "metadata": {},
   "outputs": [],
   "source": [
    "import geopandas as gpd\n",
    "import pandas as pd\n",
    "import osmnx as ox\n",
    "import yaml\n",
    "import matplotlib.pyplot as plt\n",
    "import contextily as cx\n",
    "from src import graph_functions as gf\n",
    "from src import simplification_functions as sf\n",
    "from src import evaluation_functions as ef"
   ]
  },
  {
   "cell_type": "code",
   "execution_count": 56,
   "metadata": {},
   "outputs": [
    {
     "name": "stdout",
     "output_type": "stream",
     "text": [
      "Settings loaded!\n"
     ]
    }
   ],
   "source": [
    "with open(r'../config.yml') as file:\n",
    "\n",
    "    parsed_yaml_file = yaml.load(file, Loader=yaml.FullLoader)\n",
    "\n",
    "    study_area = parsed_yaml_file['study_area']\n",
    "    study_area_poly_fp = parsed_yaml_file['study_area_poly']\n",
    "    study_crs = parsed_yaml_file['study_crs']\n",
    "\n",
    "    missing_tag_dict = parsed_yaml_file['missing_tag_analysis']\n",
    "\n",
    "    incompatible_tags_dict = parsed_yaml_file['incompatible_tags_analysis']\n",
    "    \n",
    "print('Settings loaded!')"
   ]
  },
  {
   "cell_type": "markdown",
   "metadata": {},
   "source": [
    "**Load OSM graphs and grid:**"
   ]
  },
  {
   "cell_type": "code",
   "execution_count": 150,
   "metadata": {},
   "outputs": [
    {
     "name": "stdout",
     "output_type": "stream",
     "text": [
      "Data loaded!\n"
     ]
    }
   ],
   "source": [
    "# Load simplified and non-simplified graphs\n",
    "\n",
    "osm_graph = ox.load_graphml(f'../data/osm_{study_area}.graphml')\n",
    "osm_simplified_graph = ox.load_graphml(f'../data/osm_{study_area}_simple.graphml')\n",
    "\n",
    "# Convert to nodes and edges\n",
    "nodes, edges = ox.graph_to_gdfs(osm_graph)\n",
    "simplified_nodes, simplified_edges = ox.graph_to_gdfs(osm_simplified_graph)\n",
    "\n",
    "# Load grid\n",
    "grid = gpd.read_file(f'../data/grid_{study_area}.gpkg')\n",
    "\n",
    "print('Data loaded!')"
   ]
  },
  {
   "cell_type": "markdown",
   "metadata": {},
   "source": [
    "## Missing Tags"
   ]
  },
  {
   "cell_type": "code",
   "execution_count": 17,
   "metadata": {},
   "outputs": [
    {
     "name": "stdout",
     "output_type": "stream",
     "text": [
      "Tags to be analysed are:\n",
      "{'true_geometries': ['surface,', 'cycleway_surface'], 'centerline': ['cycleway_surface']}\n",
      "{'true_geometries': ['width,', 'cycleway_width,', 'cycleway_left_width', \"cycleway_right_width'\", 'cycleway_both_width'], 'centerline': ['cycleway_width', 'cycleway_left_width', 'cycleway_right_width', 'cycleway_both_width']}\n",
      "{'all': ['lit']}\n",
      "In the entire dataset, 46830 edges or 96.14 % are missing information about surface\n",
      "In the entire dataset, 47813 edges or 98.16 % are missing information about width\n",
      "In the entire dataset, 12106 edges or 24.85 % are missing information about lit\n"
     ]
    }
   ],
   "source": [
    "print(f'Tags to be analysed are:')\n",
    "[print(value) for _, value in missing_tag_dict.items()]\n",
    "\n",
    "missing_tags = ef.analyse_missing_tags(edges, missing_tag_dict)\n",
    "\n",
    "for key, value in missing_tags.items():\n",
    "    print(f'In the entire dataset, {value} edges or {value/len(edges)*100:.2f} % are missing information about {key}')\n",
    "\n",
    "# TODO: Compute on a cell basis!\n"
   ]
  },
  {
   "cell_type": "markdown",
   "metadata": {},
   "source": [
    "## Simplification Outcome"
   ]
  },
  {
   "cell_type": "code",
   "execution_count": 171,
   "metadata": {},
   "outputs": [],
   "source": [
    "# TODO"
   ]
  },
  {
   "cell_type": "markdown",
   "metadata": {},
   "source": [
    "## Network Topology\n",
    "\n",
    "### Network Metrics\n",
    "- Alpha\n",
    "- Beta\n",
    "- Gamma\n",
    "- Number of connected components\n",
    "\n",
    "### Signs of topological errors\n",
    "\n",
    "\"roads which do not share a common Node with another one and and lie within a radius of one meter\"\n",
    "\n",
    "\"intersection but do not share a common node and not tagged bridge/tunnel\"\n",
    "\n"
   ]
  },
  {
   "cell_type": "code",
   "execution_count": null,
   "metadata": {},
   "outputs": [],
   "source": [
    "# Intersection problems\n",
    "\n",
    "# Find all edges intersecting each other\n",
    "# check if either \n",
    "\n",
    "def check_intersection(row, gdf):\n",
    "    \n",
    "    intersection = gdf[gdf.crosses(row.geometry)]\n",
    "\n",
    "    if len(intersection) > 0 and pd.isnull(row.bridge) == True and pd.isnull(row.tunnel) == True:\n",
    "\n",
    "        count = None\n",
    "\n",
    "        for _, r in intersection.iterrows():\n",
    "\n",
    "            if pd.isnull(r.bridge) == True and pd.isnull(r.tunnel) == True:\n",
    "                \n",
    "                print('Found problem!')\n",
    "    \n",
    "                count += 1\n",
    "\n",
    "        if count > 0:\n",
    "            return count\n",
    "\n",
    "edges['intersection_issues'] = edges.apply(lambda x: check_intersection(row = x, gdf=edges), axis=1)\n",
    "\n",
    "edges.loc[(edges.intersection_issues.notna()) & edges.intersection_issues > 0]\n"
   ]
  },
  {
   "cell_type": "markdown",
   "metadata": {},
   "source": [
    "## Consistency"
   ]
  },
  {
   "cell_type": "markdown",
   "metadata": {},
   "source": [
    "**Checking for incompatible tags**"
   ]
  },
  {
   "cell_type": "code",
   "execution_count": 59,
   "metadata": {},
   "outputs": [
    {
     "name": "stdout",
     "output_type": "stream",
     "text": [
      "In the entire dataset there are 8 incompatible tag combinations\n"
     ]
    }
   ],
   "source": [
    "\n",
    "incompatible_tags = ef.check_incompatible_tags(edges, incompatible_tags_dict)\n",
    "\n",
    "print(f'In the entire dataset there are {sum(incompatible_tags.values())} incompatible tag combinations (of those defined)')\n",
    "\n",
    "# TODO: Compute on a cell basis!\n"
   ]
  }
 ],
 "metadata": {
  "interpreter": {
   "hash": "c1f8aa2c3d778d7aa9dfc3a40386e394ee921296b9d64bacfb82805b60735e45"
  },
  "kernelspec": {
   "display_name": "Python 3.10.2 ('cdq')",
   "language": "python",
   "name": "python3"
  },
  "language_info": {
   "codemirror_mode": {
    "name": "ipython",
    "version": 3
   },
   "file_extension": ".py",
   "mimetype": "text/x-python",
   "name": "python",
   "nbconvert_exporter": "python",
   "pygments_lexer": "ipython3",
   "version": "3.10.2"
  },
  "orig_nbformat": 4
 },
 "nbformat": 4,
 "nbformat_minor": 2
}
